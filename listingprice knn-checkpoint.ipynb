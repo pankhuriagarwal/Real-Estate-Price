{
 "cells": [
  {
   "cell_type": "markdown",
   "metadata": {},
   "source": [
    "# Examples of Data Distributions"
   ]
  },
  {
   "cell_type": "code",
   "execution_count": 120,
   "metadata": {
    "collapsed": false
   },
   "outputs": [
    {
     "name": "stdout",
     "output_type": "stream",
     "text": [
      "Index([u'bathrooms', u'bedrooms', u'building_id', u'created', u'description',\n",
      "       u'display_address', u'features', u'interest_level', u'latitude',\n",
      "       u'listing_id', u'longitude', u'manager_id', u'photos', u'price',\n",
      "       u'street_address'],\n",
      "      dtype='object')\n"
     ]
    }
   ],
   "source": [
    "import pandas as pd\n",
    "import numpy as np\n",
    "\n",
    "\n",
    "raw_data = pd.read_json('train.json')\n",
    "print(raw_data.columns)"
   ]
  },
  {
   "cell_type": "code",
   "execution_count": 95,
   "metadata": {
    "collapsed": false
   },
   "outputs": [
    {
     "data": {
      "text/html": [
       "<div>\n",
       "<table border=\"1\" class=\"dataframe\">\n",
       "  <thead>\n",
       "    <tr style=\"text-align: right;\">\n",
       "      <th></th>\n",
       "      <th>bathrooms</th>\n",
       "      <th>bedrooms</th>\n",
       "      <th>building_id</th>\n",
       "      <th>created</th>\n",
       "      <th>description</th>\n",
       "      <th>display_address</th>\n",
       "      <th>features</th>\n",
       "      <th>interest_level</th>\n",
       "      <th>latitude</th>\n",
       "      <th>listing_id</th>\n",
       "      <th>longitude</th>\n",
       "      <th>manager_id</th>\n",
       "      <th>photos</th>\n",
       "      <th>price</th>\n",
       "      <th>street_address</th>\n",
       "    </tr>\n",
       "  </thead>\n",
       "  <tbody>\n",
       "    <tr>\n",
       "      <th>1</th>\n",
       "      <td>1.5</td>\n",
       "      <td>3</td>\n",
       "      <td>53a5b119ba8f7b61d4e010512e0dfc85</td>\n",
       "      <td>2016-06-24 07:54:24</td>\n",
       "      <td>A Brand New 3 Bedroom 1.5 bath ApartmentEnjoy ...</td>\n",
       "      <td>Metropolitan Avenue</td>\n",
       "      <td>[]</td>\n",
       "      <td>medium</td>\n",
       "      <td>40.7145</td>\n",
       "      <td>7211212</td>\n",
       "      <td>-73.9425</td>\n",
       "      <td>5ba989232d0489da1b5f2c45f6688adc</td>\n",
       "      <td>[https://photos.renthop.com/2/7211212_1ed4542e...</td>\n",
       "      <td>3000</td>\n",
       "      <td>792 Metropolitan Avenue</td>\n",
       "    </tr>\n",
       "    <tr>\n",
       "      <th>2</th>\n",
       "      <td>1.0</td>\n",
       "      <td>2</td>\n",
       "      <td>c5c8a357cba207596b04d1afd1e4f130</td>\n",
       "      <td>2016-06-12 12:19:27</td>\n",
       "      <td></td>\n",
       "      <td>Columbus Avenue</td>\n",
       "      <td>[Doorman, Elevator, Fitness Center, Cats Allow...</td>\n",
       "      <td>low</td>\n",
       "      <td>40.7947</td>\n",
       "      <td>7150865</td>\n",
       "      <td>-73.9667</td>\n",
       "      <td>7533621a882f71e25173b27e3139d83d</td>\n",
       "      <td>[https://photos.renthop.com/2/7150865_be3306c5...</td>\n",
       "      <td>5465</td>\n",
       "      <td>808 Columbus Avenue</td>\n",
       "    </tr>\n",
       "  </tbody>\n",
       "</table>\n",
       "</div>"
      ],
      "text/plain": [
       "   bathrooms  bedrooms                       building_id              created  \\\n",
       "1        1.5         3  53a5b119ba8f7b61d4e010512e0dfc85  2016-06-24 07:54:24   \n",
       "2        1.0         2  c5c8a357cba207596b04d1afd1e4f130  2016-06-12 12:19:27   \n",
       "\n",
       "                                         description      display_address  \\\n",
       "1  A Brand New 3 Bedroom 1.5 bath ApartmentEnjoy ...  Metropolitan Avenue   \n",
       "2                                                         Columbus Avenue   \n",
       "\n",
       "                                            features interest_level  latitude  \\\n",
       "1                                                 []         medium   40.7145   \n",
       "2  [Doorman, Elevator, Fitness Center, Cats Allow...            low   40.7947   \n",
       "\n",
       "   listing_id  longitude                        manager_id  \\\n",
       "1     7211212   -73.9425  5ba989232d0489da1b5f2c45f6688adc   \n",
       "2     7150865   -73.9667  7533621a882f71e25173b27e3139d83d   \n",
       "\n",
       "                                              photos  price  \\\n",
       "1  [https://photos.renthop.com/2/7211212_1ed4542e...   3000   \n",
       "2  [https://photos.renthop.com/2/7150865_be3306c5...   5465   \n",
       "\n",
       "            street_address  \n",
       "1  792 Metropolitan Avenue  \n",
       "2      808 Columbus Avenue  "
      ]
     },
     "execution_count": 95,
     "metadata": {},
     "output_type": "execute_result"
    }
   ],
   "source": [
    "raw_data.index = list(range(1,49353))\n",
    "raw_data.sort_index().head(2)\n"
   ]
  },
  {
   "cell_type": "code",
   "execution_count": 108,
   "metadata": {
    "collapsed": false
   },
   "outputs": [
    {
     "data": {
      "text/html": [
       "<div>\n",
       "<table border=\"1\" class=\"dataframe\">\n",
       "  <thead>\n",
       "    <tr style=\"text-align: right;\">\n",
       "      <th></th>\n",
       "      <th>bathrooms</th>\n",
       "      <th>bedrooms</th>\n",
       "      <th>building_id</th>\n",
       "      <th>created</th>\n",
       "      <th>description</th>\n",
       "      <th>display_address</th>\n",
       "      <th>features</th>\n",
       "      <th>interest_level</th>\n",
       "      <th>latitude</th>\n",
       "      <th>listing_id</th>\n",
       "      <th>longitude</th>\n",
       "      <th>manager_id</th>\n",
       "      <th>photos</th>\n",
       "      <th>price</th>\n",
       "      <th>street_address</th>\n",
       "    </tr>\n",
       "  </thead>\n",
       "  <tbody>\n",
       "    <tr>\n",
       "      <th>51</th>\n",
       "      <td>1.0</td>\n",
       "      <td>1</td>\n",
       "      <td>8a555803ffb2c7f5acb3c27bd46524ff</td>\n",
       "      <td>2016-04-21 06:33:48</td>\n",
       "      <td>Rego Park 1bed featuring nice kitchen, good cl...</td>\n",
       "      <td>Boothe St.</td>\n",
       "      <td>[Elevator, Pre-War, Laundry in Building]</td>\n",
       "      <td>low</td>\n",
       "      <td>40.7263</td>\n",
       "      <td>6908135</td>\n",
       "      <td>-73.8573</td>\n",
       "      <td>8cf9abc6cca9aefe093ce533a05001cb</td>\n",
       "      <td>[https://photos.renthop.com/2/6908135_2fdbce9c...</td>\n",
       "      <td>1750</td>\n",
       "      <td>65-84 Boothe St.</td>\n",
       "    </tr>\n",
       "    <tr>\n",
       "      <th>52</th>\n",
       "      <td>1.0</td>\n",
       "      <td>1</td>\n",
       "      <td>7f36f0677bd92534e122b99839c948c4</td>\n",
       "      <td>2016-04-30 01:22:06</td>\n",
       "      <td>Apartment for rent in Rego Park 11374  SUBJECT...</td>\n",
       "      <td>9609 66th Avenue</td>\n",
       "      <td>[elevator]</td>\n",
       "      <td>medium</td>\n",
       "      <td>40.7267</td>\n",
       "      <td>6944369</td>\n",
       "      <td>-73.8569</td>\n",
       "      <td>e6472c7237327dd3903b3d6f6a94515a</td>\n",
       "      <td>[https://photos.renthop.com/2/6944369_e207e8b1...</td>\n",
       "      <td>1650</td>\n",
       "      <td>9609 66th Avenue</td>\n",
       "    </tr>\n",
       "    <tr>\n",
       "      <th>53</th>\n",
       "      <td>1.0</td>\n",
       "      <td>0</td>\n",
       "      <td>14a428c84cfea2a14deb1ccf7ac3d2ed</td>\n",
       "      <td>2016-04-12 06:10:58</td>\n",
       "      <td>Located in a beautiful and classic pre-war bui...</td>\n",
       "      <td>E 88 St.</td>\n",
       "      <td>[Doorman, Elevator, Laundry in Building, Laund...</td>\n",
       "      <td>low</td>\n",
       "      <td>40.7817</td>\n",
       "      <td>6861960</td>\n",
       "      <td>-73.9573</td>\n",
       "      <td>2ce4ad2a77bc8190427196ea1e8cfe4e</td>\n",
       "      <td>[https://photos.renthop.com/2/6861960_2521d86d...</td>\n",
       "      <td>3500</td>\n",
       "      <td>60 E 88 St.</td>\n",
       "    </tr>\n",
       "  </tbody>\n",
       "</table>\n",
       "</div>"
      ],
      "text/plain": [
       "    bathrooms  bedrooms                       building_id  \\\n",
       "51        1.0         1  8a555803ffb2c7f5acb3c27bd46524ff   \n",
       "52        1.0         1  7f36f0677bd92534e122b99839c948c4   \n",
       "53        1.0         0  14a428c84cfea2a14deb1ccf7ac3d2ed   \n",
       "\n",
       "                created                                        description  \\\n",
       "51  2016-04-21 06:33:48  Rego Park 1bed featuring nice kitchen, good cl...   \n",
       "52  2016-04-30 01:22:06  Apartment for rent in Rego Park 11374  SUBJECT...   \n",
       "53  2016-04-12 06:10:58  Located in a beautiful and classic pre-war bui...   \n",
       "\n",
       "     display_address                                           features  \\\n",
       "51        Boothe St.           [Elevator, Pre-War, Laundry in Building]   \n",
       "52  9609 66th Avenue                                         [elevator]   \n",
       "53          E 88 St.  [Doorman, Elevator, Laundry in Building, Laund...   \n",
       "\n",
       "   interest_level  latitude  listing_id  longitude  \\\n",
       "51            low   40.7263     6908135   -73.8573   \n",
       "52         medium   40.7267     6944369   -73.8569   \n",
       "53            low   40.7817     6861960   -73.9573   \n",
       "\n",
       "                          manager_id  \\\n",
       "51  8cf9abc6cca9aefe093ce533a05001cb   \n",
       "52  e6472c7237327dd3903b3d6f6a94515a   \n",
       "53  2ce4ad2a77bc8190427196ea1e8cfe4e   \n",
       "\n",
       "                                               photos  price    street_address  \n",
       "51  [https://photos.renthop.com/2/6908135_2fdbce9c...   1750  65-84 Boothe St.  \n",
       "52  [https://photos.renthop.com/2/6944369_e207e8b1...   1650  9609 66th Avenue  \n",
       "53  [https://photos.renthop.com/2/6861960_2521d86d...   3500       60 E 88 St.  "
      ]
     },
     "execution_count": 108,
     "metadata": {},
     "output_type": "execute_result"
    }
   ],
   "source": [
    "raw_data[50:53]"
   ]
  },
  {
   "cell_type": "code",
   "execution_count": 67,
   "metadata": {
    "collapsed": false
   },
   "outputs": [
    {
     "data": {
      "text/plain": [
       "bathrooms               1\n",
       "bedrooms                2\n",
       "latitude          40.7947\n",
       "longitude        -73.9667\n",
       "price                5465\n",
       "interest_level        low\n",
       "Name: 7150865, dtype: object"
      ]
     },
     "execution_count": 67,
     "metadata": {},
     "output_type": "execute_result"
    }
   ],
   "source": [
    "X = raw_data[['bathrooms', 'bedrooms', 'latitude','longitude','price','interest_level']]\n",
    "X.iloc[1]\n"
   ]
  },
  {
   "cell_type": "code",
   "execution_count": 68,
   "metadata": {
    "collapsed": false
   },
   "outputs": [
    {
     "data": {
      "text/plain": [
       "5465"
      ]
     },
     "execution_count": 68,
     "metadata": {},
     "output_type": "execute_result"
    }
   ],
   "source": [
    "X.iloc[1][4]"
   ]
  },
  {
   "cell_type": "code",
   "execution_count": 37,
   "metadata": {
    "collapsed": false
   },
   "outputs": [
    {
     "name": "stdout",
     "output_type": "stream",
     "text": [
      "1.0\n"
     ]
    }
   ],
   "source": [
    "from scipy import spatial\n",
    "\n",
    "def ComputeDistance(a, b):\n",
    "    bathroomsA = a[0]\n",
    "    bathroomsB = b[0]\n",
    "    bathroomDistance = abs(bathroomsA- bathroomsB)\n",
    "    bedroomsA = a[1]\n",
    "    bedroomsB = b[1]\n",
    "    bedroomDistance = abs(bedroomsA - bedroomsB)\n",
    "    latitudeA = a[2]\n",
    "    latitudeB = b[2]\n",
    "    latitudeDistance = spatial.distance.cosine(latitudeA, latitudeB)\n",
    "    longitudeA = a[3]\n",
    "    longitudeB = b[3]\n",
    "    longitudeDistance = spatial.distance.cosine(longitudeA, longitudeB)\n",
    "    return bathroomDistance + bedroomDistance + latitudeDistance + longitudeDistance\n",
    "    \n",
    "ComputeDistance(X.iloc[1], X.iloc[160])"
   ]
  },
  {
   "cell_type": "code",
   "execution_count": 100,
   "metadata": {
    "collapsed": false
   },
   "outputs": [
    {
     "name": "stdout",
     "output_type": "stream",
     "text": [
      "bathrooms               1\n",
      "bedrooms                2\n",
      "latitude          40.7947\n",
      "longitude        -73.9667\n",
      "price                5465\n",
      "interest_level        low\n",
      "Name: 7150865, dtype: object\n",
      "bathrooms               2\n",
      "bedrooms                2\n",
      "latitude          40.7634\n",
      "longitude        -73.9596\n",
      "price                5200\n",
      "interest_level        low\n",
      "Name: 6900832, dtype: object\n"
     ]
    }
   ],
   "source": [
    "print X.iloc[1]\n",
    "print X.iloc[160]"
   ]
  },
  {
   "cell_type": "code",
   "execution_count": 98,
   "metadata": {
    "collapsed": false
   },
   "outputs": [
    {
     "name": "stdout",
     "output_type": "stream",
     "text": [
      "1.0\n"
     ]
    }
   ],
   "source": [
    "dist = ComputeDistance(X.iloc[2], X.iloc[1])\n",
    "print dist\n"
   ]
  },
  {
   "cell_type": "code",
   "execution_count": null,
   "metadata": {
    "collapsed": false,
    "scrolled": true
   },
   "outputs": [],
   "source": [
    "import operator\n",
    "\n",
    "\n",
    "def getNeighbors(listingID, K):\n",
    "    distances = []\n",
    "    i = 1 \n",
    "    for i in range (1,49353):\n",
    "        if (i != listingID):\n",
    "            dist = ComputeDistance(X.iloc[listingID], X.iloc[i])\n",
    "            distances.append((i, dist))\n",
    "            i=i+1\n",
    "    distances.sort(key=operator.itemgetter(1))\n",
    "    print distances\n",
    "    neighbors = []\n",
    "    \n",
    "    for x in range(K):\n",
    "         neighbors.append(distances.iloc[x][0])\n",
    "    return neighbors\n",
    "\n",
    "K = 10\n",
    "avgRating = 0\n",
    "neighbors = getNeighbors(2, K)\n",
    "print \"good till here\"\n",
    "for neighbor in neighbors:\n",
    "    avgPrice += X.iloc[neighbor][4]\n",
    "    print X.iloc[neighbor][0] + \" \" + str(X.iloc[neighbor][4])\n",
    "    \n",
    "avgPrice /= float(K)\n",
    "\n"
   ]
  },
  {
   "cell_type": "code",
   "execution_count": null,
   "metadata": {
    "collapsed": false
   },
   "outputs": [],
   "source": []
  },
  {
   "cell_type": "code",
   "execution_count": 82,
   "metadata": {
    "collapsed": false
   },
   "outputs": [],
   "source": []
  },
  {
   "cell_type": "code",
   "execution_count": 83,
   "metadata": {
    "collapsed": true
   },
   "outputs": [],
   "source": []
  },
  {
   "cell_type": "code",
   "execution_count": null,
   "metadata": {
    "collapsed": false
   },
   "outputs": [],
   "source": []
  },
  {
   "cell_type": "code",
   "execution_count": null,
   "metadata": {
    "collapsed": false
   },
   "outputs": [],
   "source": []
  },
  {
   "cell_type": "code",
   "execution_count": null,
   "metadata": {
    "collapsed": false
   },
   "outputs": [],
   "source": []
  },
  {
   "cell_type": "code",
   "execution_count": null,
   "metadata": {
    "collapsed": true
   },
   "outputs": [],
   "source": []
  }
 ],
 "metadata": {
  "kernelspec": {
   "display_name": "Python 2",
   "language": "python",
   "name": "python2"
  },
  "language_info": {
   "codemirror_mode": {
    "name": "ipython",
    "version": 2
   },
   "file_extension": ".py",
   "mimetype": "text/x-python",
   "name": "python",
   "nbconvert_exporter": "python",
   "pygments_lexer": "ipython2",
   "version": "2.7.11"
  }
 },
 "nbformat": 4,
 "nbformat_minor": 0
}
